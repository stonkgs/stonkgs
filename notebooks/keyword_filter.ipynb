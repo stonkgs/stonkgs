{
 "cells": [
  {
   "cell_type": "markdown",
   "metadata": {},
   "source": [
    "# Keyword Filter\n",
    "\n",
    "This notebook generates keyword-filtered versions of the pre-filtered datasets (those filtered by evidence duplicates). More specifically, for each task, a list of keywords is created first. Then, all text-triple pairs that contain one of these keywords in their evidence are filtered out. "
   ]
  },
  {
   "cell_type": "code",
   "execution_count": 22,
   "metadata": {},
   "outputs": [],
   "source": [
    "# Imports \n",
    "import getpass\n",
    "import os\n",
    "import sys\n",
    "import time\n",
    "\n",
    "import matplotlib.pyplot as plt \n",
    "import numpy as np\n",
    "import pandas as pd \n",
    "\n",
    "from stonkgs.constants import (\n",
    "    CELL_LINE_DIR,\n",
    "    CELL_TYPE_DIR,\n",
    "    DISEASE_DIR,\n",
    "    LOCATION_DIR,\n",
    "    MISC_DIR,\n",
    "    ORGAN_DIR,\n",
    "    SPECIES_DIR,\n",
    "    RELATION_TYPE_DIR,\n",
    ")"
   ]
  },
  {
   "cell_type": "markdown",
   "metadata": {},
   "source": [
    "Record details"
   ]
  },
  {
   "cell_type": "code",
   "execution_count": 3,
   "metadata": {},
   "outputs": [
    {
     "name": "stdout",
     "output_type": "stream",
     "text": [
      "hbalabin\n",
      "3.8.8 (default, Feb 24 2021, 21:46:12) \n",
      "[GCC 7.3.0]\n",
      "Mon Jun 21 10:30:08 2021\n"
     ]
    }
   ],
   "source": [
    "print(getpass.getuser())\n",
    "print(sys.version)\n",
    "print(time.asctime())"
   ]
  },
  {
   "cell_type": "markdown",
   "metadata": {},
   "source": [
    "## 1. Read the datasets"
   ]
  },
  {
   "cell_type": "code",
   "execution_count": 36,
   "metadata": {},
   "outputs": [],
   "source": [
    "cell_line = pd.read_csv(os.path.join(CELL_LINE_DIR, 'cell_line_no_duplicates.tsv'), sep=\"\\t\")\n",
    "cell_type = pd.read_csv(os.path.join(CELL_TYPE_DIR, 'cell_type_no_duplicates.tsv'), sep=\"\\t\")\n",
    "disease = pd.read_csv(os.path.join(DISEASE_DIR, 'disease_no_duplicates.tsv'), sep=\"\\t\")\n",
    "location = pd.read_csv(os.path.join(LOCATION_DIR, 'location_no_duplicates.tsv'), sep=\"\\t\")\n",
    "organ = pd.read_csv(os.path.join(ORGAN_DIR, 'organ_no_duplicates.tsv'), sep=\"\\t\")\n",
    "species = pd.read_csv(os.path.join(SPECIES_DIR, 'species_no_duplicates.tsv'), sep=\"\\t\")\n",
    "relation_type = pd.read_csv(os.path.join(RELATION_TYPE_DIR, 'relation_type_no_duplicates.tsv'), sep=\"\\t\")"
   ]
  },
  {
   "cell_type": "markdown",
   "metadata": {},
   "source": [
    "## 2. Create task specific \"blacklists\" of keywords"
   ]
  },
  {
   "cell_type": "code",
   "execution_count": 39,
   "metadata": {},
   "outputs": [
    {
     "name": "stdout",
     "output_type": "stream",
     "text": [
      "(\\bindirect interaction|up|direct interaction|down\\b)\n"
     ]
    }
   ],
   "source": [
    "cell_line_dict = {\n",
    "    '3684': 'HeLa cell',  \n",
    "    '7606': 'MCF7 cell', \n",
    "    '2795': 'DMS 114 cell', \n",
    "    '1230': 'HEK293 cell', \n",
    "    '8172': 'NIH-3T3 cell', \n",
    "    '3704': 'Hep G2 cell', \n",
    "    '9465': 'U-937 cell', \n",
    "    '7365': 'LNCAP cell', \n",
    "    '2596': 'COS-1 cell', \n",
    "    '9348': 'THP-1 cell',\n",
    "}\n",
    "cell_line_blacklist = list(cell_line_dict.values())\n",
    "cell_line_pat = r'(\\b{}\\b)'.format('|'.join(cell_line_blacklist))\n",
    "\n",
    "cell_type_dict = {\n",
    "    '7': 'early embryonic cell (metazoa)', \n",
    "    '57': 'fibroblast', \n",
    "    '235': 'macrophage', \n",
    "    '567': 'polymodal nocireceptor', \n",
    "    '938': 'CD56-bright natural killer cell', \n",
    "    '115': 'endothelial cell', \n",
    "    '150': 'glandular epithelial cell', \n",
    "    '192': 'smooth muscle cell', \n",
    "    '136': 'fat cell', \n",
    "    '182': 'hepatocyte',\n",
    "}\n",
    "cell_type_blacklist = list(cell_type_dict.values())\n",
    "cell_type_pat = r'(\\b{}\\b)'.format('|'.join(cell_type_blacklist))\n",
    "\n",
    "disease_dict = {\n",
    "    '1324': 'lung cancer', \n",
    "    '1936': 'atherosclerosis', \n",
    "    '1612': 'breast cancer', \n",
    "    '9538': 'multiple myeloma', \n",
    "    '1240': 'leukemia', \n",
    "    '219': 'colon cancer', \n",
    "    '1909': 'melanoma', \n",
    "    '769': 'neuroblastoma', \n",
    "    '3908': 'lung non-small cell carcinoma', \n",
    "    '3347': 'osteosarcoma',\n",
    "}\n",
    "disease_blacklist = list(disease_dict.values())\n",
    "disease_pat = r'(\\b{}\\b)'.format('|'.join(disease_blacklist))\n",
    "\n",
    "location_dict = {\n",
    "    'D002467': 'Cell Nucleus', \n",
    "    'D002462': 'Cell Membrane', \n",
    "    'D003593': 'Cytoplasm', \n",
    "    'D005109': 'Extracellular Matrix', \n",
    "    'D005110': 'Extracellular Space',\n",
    "}\n",
    "location_blacklist = list(location_dict.values())\n",
    "location_pat = r'(\\b{}\\b)'.format('|'.join(location_blacklist))\n",
    "\n",
    "organ_dict = {\n",
    "    '2048': 'lung', \n",
    "    '2107': 'liver', \n",
    "    '1986': 'endothelium', \n",
    "    '1134': 'skeletal muscle tissue',\n",
    "    '483': 'epithelium', \n",
    "    '947': 'aorta', \n",
    "    '310': 'breast', \n",
    "    '142': 'mechanosensory system',  # cross reference from BILA \n",
    "     # https://www.ebi.ac.uk/ols/ontologies/uberon/terms?iri=http%3A%2F%2Fpurl.obolibrary.org%2Fobo%2FUBERON_0007037\n",
    "    '2367': 'prostate gland',\n",
    "    '948': 'heart',\n",
    "}\n",
    "organ_blacklist = list(organ_dict.values())\n",
    "organ_pat = r'(\\b{}\\b)'.format('|'.join(organ_blacklist))\n",
    "\n",
    "species_blacklist = [\"rat\", \"rats\", \"human\", \"humans\", \"mouse\", \"mice\", \"homo sapiens\", \"rodents\", \"rattus\", \"mus\"]\n",
    "species_pat = r'(\\b{}\\b)'.format('|'.join(species_blacklist))\n",
    "\n",
    "relation_type_blacklist = list(set(np.unique(relation_type['interaction'])).union(\n",
    "    set(np.unique(relation_type['polarity']))))\n",
    "relation_type_blacklist = [term.replace(\"_\", \" \") for term in relation_type_blacklist]\n",
    "relation_type_pat = r'(\\b{}\\b)'.format('|'.join(relation_type_blacklist))\n",
    "print(relation_type_pat)"
   ]
  },
  {
   "cell_type": "markdown",
   "metadata": {},
   "source": [
    "## 3. Filter by the pattern created with the keywords (case insensitive)"
   ]
  },
  {
   "cell_type": "code",
   "execution_count": 42,
   "metadata": {},
   "outputs": [],
   "source": [
    "cell_line_new = cell_line[~cell_line[\"evidence\"].str.contains(cell_line_pat, case=False, na=False)]\n",
    "cell_type_new = cell_type[~cell_type[\"evidence\"].str.contains(cell_type_pat, case=False, na=False)]\n",
    "disease_new = disease[~disease[\"evidence\"].str.contains(disease_pat, case=False, na=False)]\n",
    "location_new = location[~location[\"evidence\"].str.contains(location_pat, case=False, na=False)]\n",
    "organ_new = organ[~organ[\"evidence\"].str.contains(organ_pat, case=False, na=False)]\n",
    "species_new = species[~species[\"evidence\"].str.contains(species_pat, case=False, na=False)]\n",
    "relation_type_new = relation_type[~relation_type[\"evidence\"].str.contains(relation_type_pat, case=False, na=False)]"
   ]
  },
  {
   "cell_type": "markdown",
   "metadata": {},
   "source": [
    "Also print out how many entries were filtered out by the keywords"
   ]
  },
  {
   "cell_type": "code",
   "execution_count": 43,
   "metadata": {},
   "outputs": [
    {
     "name": "stdout",
     "output_type": "stream",
     "text": [
      "For cell line, 97 out of 3893 entries were filtered out\n",
      "For cell type, 315 out of 4728 entries were filtered out\n",
      "For disease, 128 out of 4722 entries were filtered out\n",
      "For location, 106 out of 5314 entries were filtered out\n",
      "For organ, 155 out of 4198 entries were filtered out\n",
      "For species, 3092 out of 29355 entries were filtered out\n",
      "For relation type, 15955 out of 79932 entries were filtered out\n"
     ]
    }
   ],
   "source": [
    "print(f'For cell line, {len(cell_line)-len(cell_line_new)} out of {len(cell_line)} entries were filtered out')\n",
    "print(f'For cell type, {len(cell_type)-len(cell_type_new)} out of {len(cell_type)} entries were filtered out')\n",
    "print(f'For disease, {len(disease)-len(disease_new)} out of {len(disease)} entries were filtered out')\n",
    "print(f'For location, {len(location)-len(location_new)} out of {len(location)} entries were filtered out')\n",
    "print(f'For organ, {len(organ)-len(organ_new)} out of {len(organ)} entries were filtered out')\n",
    "print(f'For species, {len(species)-len(species_new)} out of {len(species)} entries were filtered out')\n",
    "print(f'For relation type, {len(relation_type)-len(relation_type_new)} out of {len(relation_type)} entries were filtered out')"
   ]
  },
  {
   "cell_type": "markdown",
   "metadata": {},
   "source": [
    "## 4. Save the new datasets"
   ]
  },
  {
   "cell_type": "code",
   "execution_count": 50,
   "metadata": {},
   "outputs": [
    {
     "ename": "KeyError",
     "evalue": "\"['Unnamed: 0'] not found in axis\"",
     "output_type": "error",
     "traceback": [
      "\u001b[0;31m---------------------------------------------------------------------------\u001b[0m",
      "\u001b[0;31mKeyError\u001b[0m                                  Traceback (most recent call last)",
      "\u001b[0;32m<ipython-input-50-c02d5939c3f7>\u001b[0m in \u001b[0;36m<module>\u001b[0;34m\u001b[0m\n\u001b[1;32m      1\u001b[0m \u001b[0;31m# cell_line_new.drop(columns=['Unnamed: 0'], inplace=True)\u001b[0m\u001b[0;34m\u001b[0m\u001b[0;34m\u001b[0m\u001b[0;34m\u001b[0m\u001b[0m\n\u001b[0;32m----> 2\u001b[0;31m \u001b[0mcell_type_new\u001b[0m\u001b[0;34m.\u001b[0m\u001b[0mdrop\u001b[0m\u001b[0;34m(\u001b[0m\u001b[0mcolumns\u001b[0m\u001b[0;34m=\u001b[0m\u001b[0;34m[\u001b[0m\u001b[0;34m'Unnamed: 0'\u001b[0m\u001b[0;34m]\u001b[0m\u001b[0;34m,\u001b[0m \u001b[0minplace\u001b[0m\u001b[0;34m=\u001b[0m\u001b[0;32mTrue\u001b[0m\u001b[0;34m)\u001b[0m\u001b[0;34m\u001b[0m\u001b[0;34m\u001b[0m\u001b[0m\n\u001b[0m\u001b[1;32m      3\u001b[0m \u001b[0mdisease_new\u001b[0m\u001b[0;34m.\u001b[0m\u001b[0mdrop\u001b[0m\u001b[0;34m(\u001b[0m\u001b[0mcolumns\u001b[0m\u001b[0;34m=\u001b[0m\u001b[0;34m[\u001b[0m\u001b[0;34m'Unnamed: 0'\u001b[0m\u001b[0;34m]\u001b[0m\u001b[0;34m,\u001b[0m \u001b[0minplace\u001b[0m\u001b[0;34m=\u001b[0m\u001b[0;32mTrue\u001b[0m\u001b[0;34m)\u001b[0m\u001b[0;34m\u001b[0m\u001b[0;34m\u001b[0m\u001b[0m\n\u001b[1;32m      4\u001b[0m \u001b[0mlocation_new\u001b[0m\u001b[0;34m.\u001b[0m\u001b[0mdrop\u001b[0m\u001b[0;34m(\u001b[0m\u001b[0mcolumns\u001b[0m\u001b[0;34m=\u001b[0m\u001b[0;34m[\u001b[0m\u001b[0;34m'Unnamed: 0'\u001b[0m\u001b[0;34m]\u001b[0m\u001b[0;34m,\u001b[0m \u001b[0minplace\u001b[0m\u001b[0;34m=\u001b[0m\u001b[0;32mTrue\u001b[0m\u001b[0;34m)\u001b[0m\u001b[0;34m\u001b[0m\u001b[0;34m\u001b[0m\u001b[0m\n\u001b[1;32m      5\u001b[0m \u001b[0morgan_new\u001b[0m\u001b[0;34m.\u001b[0m\u001b[0mdrop\u001b[0m\u001b[0;34m(\u001b[0m\u001b[0mcolumns\u001b[0m\u001b[0;34m=\u001b[0m\u001b[0;34m[\u001b[0m\u001b[0;34m'Unnamed: 0'\u001b[0m\u001b[0;34m]\u001b[0m\u001b[0;34m,\u001b[0m \u001b[0minplace\u001b[0m\u001b[0;34m=\u001b[0m\u001b[0;32mTrue\u001b[0m\u001b[0;34m)\u001b[0m\u001b[0;34m\u001b[0m\u001b[0;34m\u001b[0m\u001b[0m\n",
      "\u001b[0;32m~/.conda/envs/stonkgs/lib/python3.8/site-packages/pandas/core/frame.py\u001b[0m in \u001b[0;36mdrop\u001b[0;34m(self, labels, axis, index, columns, level, inplace, errors)\u001b[0m\n\u001b[1;32m   4306\u001b[0m                 \u001b[0mweight\u001b[0m  \u001b[0;36m1.0\u001b[0m     \u001b[0;36m0.8\u001b[0m\u001b[0;34m\u001b[0m\u001b[0;34m\u001b[0m\u001b[0m\n\u001b[1;32m   4307\u001b[0m         \"\"\"\n\u001b[0;32m-> 4308\u001b[0;31m         return super().drop(\n\u001b[0m\u001b[1;32m   4309\u001b[0m             \u001b[0mlabels\u001b[0m\u001b[0;34m=\u001b[0m\u001b[0mlabels\u001b[0m\u001b[0;34m,\u001b[0m\u001b[0;34m\u001b[0m\u001b[0;34m\u001b[0m\u001b[0m\n\u001b[1;32m   4310\u001b[0m             \u001b[0maxis\u001b[0m\u001b[0;34m=\u001b[0m\u001b[0maxis\u001b[0m\u001b[0;34m,\u001b[0m\u001b[0;34m\u001b[0m\u001b[0;34m\u001b[0m\u001b[0m\n",
      "\u001b[0;32m~/.conda/envs/stonkgs/lib/python3.8/site-packages/pandas/core/generic.py\u001b[0m in \u001b[0;36mdrop\u001b[0;34m(self, labels, axis, index, columns, level, inplace, errors)\u001b[0m\n\u001b[1;32m   4151\u001b[0m         \u001b[0;32mfor\u001b[0m \u001b[0maxis\u001b[0m\u001b[0;34m,\u001b[0m \u001b[0mlabels\u001b[0m \u001b[0;32min\u001b[0m \u001b[0maxes\u001b[0m\u001b[0;34m.\u001b[0m\u001b[0mitems\u001b[0m\u001b[0;34m(\u001b[0m\u001b[0;34m)\u001b[0m\u001b[0;34m:\u001b[0m\u001b[0;34m\u001b[0m\u001b[0;34m\u001b[0m\u001b[0m\n\u001b[1;32m   4152\u001b[0m             \u001b[0;32mif\u001b[0m \u001b[0mlabels\u001b[0m \u001b[0;32mis\u001b[0m \u001b[0;32mnot\u001b[0m \u001b[0;32mNone\u001b[0m\u001b[0;34m:\u001b[0m\u001b[0;34m\u001b[0m\u001b[0;34m\u001b[0m\u001b[0m\n\u001b[0;32m-> 4153\u001b[0;31m                 \u001b[0mobj\u001b[0m \u001b[0;34m=\u001b[0m \u001b[0mobj\u001b[0m\u001b[0;34m.\u001b[0m\u001b[0m_drop_axis\u001b[0m\u001b[0;34m(\u001b[0m\u001b[0mlabels\u001b[0m\u001b[0;34m,\u001b[0m \u001b[0maxis\u001b[0m\u001b[0;34m,\u001b[0m \u001b[0mlevel\u001b[0m\u001b[0;34m=\u001b[0m\u001b[0mlevel\u001b[0m\u001b[0;34m,\u001b[0m \u001b[0merrors\u001b[0m\u001b[0;34m=\u001b[0m\u001b[0merrors\u001b[0m\u001b[0;34m)\u001b[0m\u001b[0;34m\u001b[0m\u001b[0;34m\u001b[0m\u001b[0m\n\u001b[0m\u001b[1;32m   4154\u001b[0m \u001b[0;34m\u001b[0m\u001b[0m\n\u001b[1;32m   4155\u001b[0m         \u001b[0;32mif\u001b[0m \u001b[0minplace\u001b[0m\u001b[0;34m:\u001b[0m\u001b[0;34m\u001b[0m\u001b[0;34m\u001b[0m\u001b[0m\n",
      "\u001b[0;32m~/.conda/envs/stonkgs/lib/python3.8/site-packages/pandas/core/generic.py\u001b[0m in \u001b[0;36m_drop_axis\u001b[0;34m(self, labels, axis, level, errors)\u001b[0m\n\u001b[1;32m   4186\u001b[0m                 \u001b[0mnew_axis\u001b[0m \u001b[0;34m=\u001b[0m \u001b[0maxis\u001b[0m\u001b[0;34m.\u001b[0m\u001b[0mdrop\u001b[0m\u001b[0;34m(\u001b[0m\u001b[0mlabels\u001b[0m\u001b[0;34m,\u001b[0m \u001b[0mlevel\u001b[0m\u001b[0;34m=\u001b[0m\u001b[0mlevel\u001b[0m\u001b[0;34m,\u001b[0m \u001b[0merrors\u001b[0m\u001b[0;34m=\u001b[0m\u001b[0merrors\u001b[0m\u001b[0;34m)\u001b[0m\u001b[0;34m\u001b[0m\u001b[0;34m\u001b[0m\u001b[0m\n\u001b[1;32m   4187\u001b[0m             \u001b[0;32melse\u001b[0m\u001b[0;34m:\u001b[0m\u001b[0;34m\u001b[0m\u001b[0;34m\u001b[0m\u001b[0m\n\u001b[0;32m-> 4188\u001b[0;31m                 \u001b[0mnew_axis\u001b[0m \u001b[0;34m=\u001b[0m \u001b[0maxis\u001b[0m\u001b[0;34m.\u001b[0m\u001b[0mdrop\u001b[0m\u001b[0;34m(\u001b[0m\u001b[0mlabels\u001b[0m\u001b[0;34m,\u001b[0m \u001b[0merrors\u001b[0m\u001b[0;34m=\u001b[0m\u001b[0merrors\u001b[0m\u001b[0;34m)\u001b[0m\u001b[0;34m\u001b[0m\u001b[0;34m\u001b[0m\u001b[0m\n\u001b[0m\u001b[1;32m   4189\u001b[0m             \u001b[0mresult\u001b[0m \u001b[0;34m=\u001b[0m \u001b[0mself\u001b[0m\u001b[0;34m.\u001b[0m\u001b[0mreindex\u001b[0m\u001b[0;34m(\u001b[0m\u001b[0;34m**\u001b[0m\u001b[0;34m{\u001b[0m\u001b[0maxis_name\u001b[0m\u001b[0;34m:\u001b[0m \u001b[0mnew_axis\u001b[0m\u001b[0;34m}\u001b[0m\u001b[0;34m)\u001b[0m\u001b[0;34m\u001b[0m\u001b[0;34m\u001b[0m\u001b[0m\n\u001b[1;32m   4190\u001b[0m \u001b[0;34m\u001b[0m\u001b[0m\n",
      "\u001b[0;32m~/.conda/envs/stonkgs/lib/python3.8/site-packages/pandas/core/indexes/base.py\u001b[0m in \u001b[0;36mdrop\u001b[0;34m(self, labels, errors)\u001b[0m\n\u001b[1;32m   5589\u001b[0m         \u001b[0;32mif\u001b[0m \u001b[0mmask\u001b[0m\u001b[0;34m.\u001b[0m\u001b[0many\u001b[0m\u001b[0;34m(\u001b[0m\u001b[0;34m)\u001b[0m\u001b[0;34m:\u001b[0m\u001b[0;34m\u001b[0m\u001b[0;34m\u001b[0m\u001b[0m\n\u001b[1;32m   5590\u001b[0m             \u001b[0;32mif\u001b[0m \u001b[0merrors\u001b[0m \u001b[0;34m!=\u001b[0m \u001b[0;34m\"ignore\"\u001b[0m\u001b[0;34m:\u001b[0m\u001b[0;34m\u001b[0m\u001b[0;34m\u001b[0m\u001b[0m\n\u001b[0;32m-> 5591\u001b[0;31m                 \u001b[0;32mraise\u001b[0m \u001b[0mKeyError\u001b[0m\u001b[0;34m(\u001b[0m\u001b[0;34mf\"{labels[mask]} not found in axis\"\u001b[0m\u001b[0;34m)\u001b[0m\u001b[0;34m\u001b[0m\u001b[0;34m\u001b[0m\u001b[0m\n\u001b[0m\u001b[1;32m   5592\u001b[0m             \u001b[0mindexer\u001b[0m \u001b[0;34m=\u001b[0m \u001b[0mindexer\u001b[0m\u001b[0;34m[\u001b[0m\u001b[0;34m~\u001b[0m\u001b[0mmask\u001b[0m\u001b[0;34m]\u001b[0m\u001b[0;34m\u001b[0m\u001b[0;34m\u001b[0m\u001b[0m\n\u001b[1;32m   5593\u001b[0m         \u001b[0;32mreturn\u001b[0m \u001b[0mself\u001b[0m\u001b[0;34m.\u001b[0m\u001b[0mdelete\u001b[0m\u001b[0;34m(\u001b[0m\u001b[0mindexer\u001b[0m\u001b[0;34m)\u001b[0m\u001b[0;34m\u001b[0m\u001b[0;34m\u001b[0m\u001b[0m\n",
      "\u001b[0;31mKeyError\u001b[0m: \"['Unnamed: 0'] not found in axis\""
     ]
    }
   ],
   "source": [
    "cell_line_new.drop(columns=['Unnamed: 0'], inplace=True)\n",
    "cell_type_new.drop(columns=['Unnamed: 0'], inplace=True)\n",
    "disease_new.drop(columns=['Unnamed: 0'], inplace=True)\n",
    "location_new.drop(columns=['Unnamed: 0'], inplace=True)\n",
    "organ_new.drop(columns=['Unnamed: 0'], inplace=True)\n",
    "species_new.drop(columns=['Unnamed: 0'], inplace=True)\n",
    "relation_type_new.drop(columns=['Unnamed: 0'], inplace=True)"
   ]
  },
  {
   "cell_type": "code",
   "execution_count": 54,
   "metadata": {},
   "outputs": [],
   "source": [
    "cell_line_new.to_csv(os.path.join(CELL_LINE_DIR, 'cell_line_keyword_filtered.tsv'), sep=\"\\t\", index=None)\n",
    "cell_type_new.to_csv(os.path.join(CELL_TYPE_DIR, 'cell_type_keyword_filtered.tsv'), sep=\"\\t\", index=None)\n",
    "disease_new.to_csv(os.path.join(DISEASE_DIR, 'disease_keyword_filtered.tsv'), sep=\"\\t\", index=None)\n",
    "location_new.to_csv(os.path.join(LOCATION_DIR, 'location_keyword_filtered.tsv'), sep=\"\\t\", index=None)\n",
    "organ_new.to_csv(os.path.join(ORGAN_DIR, 'organ_keyword_filtered.tsv'), sep=\"\\t\", index=None)\n",
    "species_new.to_csv(os.path.join(SPECIES_DIR, 'species_keyword_filtered.tsv'), sep=\"\\t\", index=None)\n",
    "relation_type_new.to_csv(os.path.join(RELATION_TYPE_DIR, 'relation_type_keyword_filtered.tsv'), sep=\"\\t\", index=None)"
   ]
  }
 ],
 "metadata": {
  "kernelspec": {
   "display_name": "Python 3",
   "language": "python",
   "name": "python3"
  },
  "language_info": {
   "codemirror_mode": {
    "name": "ipython",
    "version": 3
   },
   "file_extension": ".py",
   "mimetype": "text/x-python",
   "name": "python",
   "nbconvert_exporter": "python",
   "pygments_lexer": "ipython3",
   "version": "3.8.8"
  }
 },
 "nbformat": 4,
 "nbformat_minor": 4
}
