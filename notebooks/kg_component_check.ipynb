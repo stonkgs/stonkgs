{
 "cells": [
  {
   "cell_type": "markdown",
   "id": "72326de4",
   "metadata": {},
   "source": [
    "# Check the number of (isolated) components of the pre-training INDRA KG \n",
    "\n",
    "This notebook runs some statistics on the KG extracted from `pretraining_triples.tsv`"
   ]
  },
  {
   "cell_type": "code",
   "execution_count": 6,
   "id": "1a8bdf1f",
   "metadata": {},
   "outputs": [],
   "source": [
    "# Imports \n",
    "import getpass\n",
    "import os\n",
    "import sys\n",
    "import time\n",
    "\n",
    "import networkx as nx\n",
    "import pandas as pd \n",
    "\n",
    "from stonkgs.constants import (\n",
    "    PRETRAINING_PATH\n",
    ")"
   ]
  },
  {
   "cell_type": "markdown",
   "id": "a5f662ea",
   "metadata": {},
   "source": [
    "User/Version etc."
   ]
  },
  {
   "cell_type": "code",
   "execution_count": 3,
   "id": "eb7826a6",
   "metadata": {
    "scrolled": true
   },
   "outputs": [
    {
     "name": "stdout",
     "output_type": "stream",
     "text": [
      "hbalabin\n",
      "3.8.8 (default, Feb 24 2021, 21:46:12) \n",
      "[GCC 7.3.0]\n",
      "Tue May 11 15:54:01 2021\n"
     ]
    }
   ],
   "source": [
    "print(getpass.getuser())\n",
    "print(sys.version)\n",
    "print(time.asctime())"
   ]
  },
  {
   "cell_type": "markdown",
   "id": "6dafdcdd",
   "metadata": {},
   "source": [
    "## 1. Load the KG from the pretraining data"
   ]
  },
  {
   "cell_type": "code",
   "execution_count": 5,
   "id": "78637cab",
   "metadata": {},
   "outputs": [],
   "source": [
    "# Load the data \n",
    "triples_df = pd.read_csv(PRETRAINING_PATH, sep='\\t')"
   ]
  },
  {
   "cell_type": "code",
   "execution_count": 10,
   "id": "ecccadb0",
   "metadata": {},
   "outputs": [],
   "source": [
    "# Build a KG \n",
    "kg = nx.from_pandas_edgelist(triples_df, 'source', 'target')"
   ]
  },
  {
   "cell_type": "code",
   "execution_count": 15,
   "id": "d0ff7484",
   "metadata": {},
   "outputs": [
    {
     "name": "stdout",
     "output_type": "stream",
     "text": [
      "175094\n"
     ]
    }
   ],
   "source": [
    "print(kg.number_of_nodes())"
   ]
  },
  {
   "cell_type": "markdown",
   "id": "732f9396",
   "metadata": {},
   "source": [
    "## 2. Analyze the number of components and the number of nodes in there"
   ]
  },
  {
   "cell_type": "code",
   "execution_count": 12,
   "id": "64b150a5",
   "metadata": {},
   "outputs": [
    {
     "name": "stdout",
     "output_type": "stream",
     "text": [
      "Components of the KG: 549\n",
      "Largest component 174078, first 50... -> [5, 4, 4, 4, 4, 4, 4, 4, 4, 4, 4, 4, 4, 3, 3, 3, 3, 3, 3, 3, 3, 3, 3, 3, 3, 3, 3, 3, 3, 3, 3, 3, 3, 3, 3, 3, 3, 3, 3, 3, 3, 3, 3, 3, 3, 3, 3, 3, 3]\n"
     ]
    }
   ],
   "source": [
    "# Get largest component of the graph\n",
    "connected_components = [\n",
    "    component\n",
    "    for component in sorted(nx.connected_components(kg.to_undirected()), key=len, reverse=True)\n",
    "]\n",
    "print(f'Components of the KG: {len(connected_components)}')\n",
    "\n",
    "connected_components_size = [\n",
    "    len(c)\n",
    "    for c in connected_components\n",
    "]\n",
    "print(\n",
    "    f'Largest component {connected_components_size[0]}, first 50... -> {connected_components_size[1: 50]}'\n",
    ")\n",
    "nodes_not_in_largest_component = [\n",
    "    node\n",
    "    for subgraph in connected_components[1:]\n",
    "    for node in subgraph\n",
    "]"
   ]
  },
  {
   "cell_type": "code",
   "execution_count": 13,
   "id": "19a52dbf",
   "metadata": {},
   "outputs": [
    {
     "name": "stdout",
     "output_type": "stream",
     "text": [
      "1016\n"
     ]
    }
   ],
   "source": [
    "print(len(nodes_not_in_largest_component))"
   ]
  }
 ],
 "metadata": {
  "kernelspec": {
   "display_name": "Python 3",
   "language": "python",
   "name": "python3"
  },
  "language_info": {
   "codemirror_mode": {
    "name": "ipython",
    "version": 3
   },
   "file_extension": ".py",
   "mimetype": "text/x-python",
   "name": "python",
   "nbconvert_exporter": "python",
   "pygments_lexer": "ipython3",
   "version": "3.8.8"
  }
 },
 "nbformat": 4,
 "nbformat_minor": 5
}
